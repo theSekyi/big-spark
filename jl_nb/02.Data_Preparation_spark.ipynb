{
 "cells": [
  {
   "cell_type": "code",
   "execution_count": 1,
   "id": "038013a5-bf9d-448c-8fe1-d2bcaa4e5379",
   "metadata": {},
   "outputs": [],
   "source": [
    "%load_ext lab_black\n",
    "%load_ext autoreload\n",
    "%autoreload 2"
   ]
  },
  {
   "cell_type": "code",
   "execution_count": 2,
   "id": "1a8dca89-56d3-40a7-a5be-7b75211f8b64",
   "metadata": {},
   "outputs": [],
   "source": [
    "import pandas as pd"
   ]
  },
  {
   "cell_type": "code",
   "execution_count": 3,
   "id": "e6d33682-7b01-473c-928c-7c88bdf6bd32",
   "metadata": {},
   "outputs": [],
   "source": [
    "src_store_sales = \"../data/csv/store_sales.csv\"\n",
    "src_store = \"../data/csv/store.csv\"\n",
    "src_items = \"../data/csv/item.csv\"\n",
    "src_date = \"../data/csv/date_dim.csv\"\n",
    "src_time = \"../data/csv/time_dim.csv\""
   ]
  },
  {
   "cell_type": "code",
   "execution_count": 12,
   "id": "9a1ad3c0-e529-4480-a505-0a129ef788f8",
   "metadata": {},
   "outputs": [],
   "source": [
    "import pyspark\n",
    "from pyspark.sql import SparkSession\n",
    "\n",
    "spark = SparkSession.builder.master(\"local[*]\").appName(\"EDA\").getOrCreate()\n",
    "spark.conf.set(\"spark.sql.debug.maxToStringFields\", 1000)\n",
    "spark.sparkContext.setLogLevel(\"WARN\")"
   ]
  },
  {
   "cell_type": "code",
   "execution_count": 13,
   "id": "88e3df14-49cc-4d90-9fe4-6beec4b07b46",
   "metadata": {},
   "outputs": [],
   "source": [
    "def init_spark(app_name):\n",
    "    spark = SparkSession.builder.master(\"local[*]\").appName(app_name).getOrCreate()\n",
    "    return spark\n",
    "\n",
    "\n",
    "def denormalize_store_sales(df_store, df_store_sales, df_items, df_date, df_time):\n",
    "    df = (\n",
    "        df_store_sales.join(\n",
    "            df_store,\n",
    "            df_store_sales[\"ss_store_sk\"] == df_store[\"s_store_sk\"],\n",
    "            \"leftouter\",\n",
    "        )\n",
    "        .join(\n",
    "            df_items, df_store_sales[\"ss_item_sk\"] == df_items[\"i_item_sk\"], \"leftouter\"\n",
    "        )\n",
    "        .join(\n",
    "            df_date,\n",
    "            df_store_sales[\"ss_sold_date_sk\"] == df_date[\"d_date_sk\"],\n",
    "            \"leftouter\",\n",
    "        )\n",
    "        .join(\n",
    "            df_time,\n",
    "            df_store_sales[\"ss_sold_time_sk\"] == df_time[\"t_time_sk\"],\n",
    "            \"leftouter\",\n",
    "        )\n",
    "    )\n",
    "    return df\n",
    "\n",
    "\n",
    "def save_to_csv(df, dest):\n",
    "    df.write.csv(dest)\n",
    "    # df.repartition(1).write.csv(dest, sep=\"|\")"
   ]
  },
  {
   "cell_type": "code",
   "execution_count": 6,
   "id": "7cdfe962-c25d-4656-85cd-75a618868967",
   "metadata": {},
   "outputs": [],
   "source": [
    "df_store_sales = spark.read.option(\"header\", \"true\").csv(src_store_sales)\n",
    "df_store = spark.read.option(\"header\", \"true\").csv(src_store)\n",
    "df_items = spark.read.option(\"header\", \"true\").csv(src_items)\n",
    "df_date = spark.read.option(\"header\", \"true\").csv(src_date)\n",
    "df_time = spark.read.option(\"header\", \"true\").csv(src_time)"
   ]
  },
  {
   "cell_type": "code",
   "execution_count": 7,
   "id": "32bac3ba-b582-4964-9c33-9a1d47c15050",
   "metadata": {},
   "outputs": [],
   "source": [
    "df = denormalize_store_sales(df_store, df_store_sales, df_items, df_date, df_time)"
   ]
  },
  {
   "cell_type": "code",
   "execution_count": 9,
   "id": "349d7440-598f-447e-9cae-7a358794fc91",
   "metadata": {},
   "outputs": [
    {
     "name": "stderr",
     "output_type": "stream",
     "text": [
      "                                                                                \r"
     ]
    },
    {
     "data": {
      "text/plain": [
       "14400052"
      ]
     },
     "execution_count": 9,
     "metadata": {},
     "output_type": "execute_result"
    }
   ],
   "source": [
    "df.count()"
   ]
  },
  {
   "cell_type": "code",
   "execution_count": 8,
   "id": "a9f9210f-4af4-48a4-9684-efa761b33910",
   "metadata": {},
   "outputs": [],
   "source": [
    "assert len(df.schema.names) == (\n",
    "    len(df_store_sales.schema.names)\n",
    "    + len(df_store.schema.names)\n",
    "    + len(df_items.schema.names)\n",
    "    + len(df_date.schema.names)\n",
    "    + len(df_time.schema.names)\n",
    ")"
   ]
  },
  {
   "cell_type": "code",
   "execution_count": 14,
   "id": "8d64ff86-237f-47a4-bf77-abc97f7292f9",
   "metadata": {},
   "outputs": [
    {
     "name": "stderr",
     "output_type": "stream",
     "text": [
      "                                                                                \r"
     ]
    }
   ],
   "source": [
    "dest = \"../data/csv/store_sales_denormalized.csv\"\n",
    "save_to_csv(df, dest)"
   ]
  },
  {
   "cell_type": "code",
   "execution_count": null,
   "id": "a3e14edc-580a-49be-b627-a6c9a5f20a4e",
   "metadata": {},
   "outputs": [],
   "source": []
  },
  {
   "cell_type": "code",
   "execution_count": null,
   "id": "7a30804a-cd7e-442b-9da8-7062cbb9f1ac",
   "metadata": {},
   "outputs": [],
   "source": []
  },
  {
   "cell_type": "code",
   "execution_count": null,
   "id": "799e9b05-3614-43ec-be95-39daf7ee9d24",
   "metadata": {},
   "outputs": [],
   "source": []
  },
  {
   "cell_type": "code",
   "execution_count": null,
   "id": "1d809790-7572-4c43-b92a-cae8dc15fee5",
   "metadata": {},
   "outputs": [],
   "source": []
  },
  {
   "cell_type": "code",
   "execution_count": null,
   "id": "dac074f0-8412-4175-b2f9-da5bfaa2e513",
   "metadata": {},
   "outputs": [],
   "source": []
  },
  {
   "cell_type": "code",
   "execution_count": null,
   "id": "e0031ccc-c074-4acf-a548-7fedb1caf4ef",
   "metadata": {},
   "outputs": [],
   "source": []
  },
  {
   "cell_type": "code",
   "execution_count": null,
   "id": "b9e922fb-465b-45d5-8ee4-27f55754ed5b",
   "metadata": {},
   "outputs": [],
   "source": []
  },
  {
   "cell_type": "code",
   "execution_count": null,
   "id": "1372a079-bab8-4857-9a50-66a45906b931",
   "metadata": {},
   "outputs": [],
   "source": []
  },
  {
   "cell_type": "code",
   "execution_count": null,
   "id": "90759319-b249-4fa7-9a95-0f7a42e83ed6",
   "metadata": {},
   "outputs": [],
   "source": []
  },
  {
   "cell_type": "code",
   "execution_count": null,
   "id": "59ac48e9-5c13-43c9-a4c6-1d10e14ae74a",
   "metadata": {},
   "outputs": [],
   "source": []
  },
  {
   "cell_type": "code",
   "execution_count": null,
   "id": "9d61d05b-2039-4550-9fa3-77f882fb1426",
   "metadata": {},
   "outputs": [],
   "source": []
  },
  {
   "cell_type": "code",
   "execution_count": null,
   "id": "bfb02fef-692c-4e31-975c-459583aea6e4",
   "metadata": {},
   "outputs": [],
   "source": []
  },
  {
   "cell_type": "code",
   "execution_count": null,
   "id": "da481e13-e438-4e57-994b-d51a0fd0f36b",
   "metadata": {},
   "outputs": [],
   "source": []
  },
  {
   "cell_type": "code",
   "execution_count": null,
   "id": "64a2e239-5ad2-4ec1-bceb-a6a18837bb24",
   "metadata": {},
   "outputs": [],
   "source": []
  },
  {
   "cell_type": "code",
   "execution_count": null,
   "id": "bcff3328-aad6-49fb-8508-84f2538b9672",
   "metadata": {},
   "outputs": [],
   "source": []
  },
  {
   "cell_type": "code",
   "execution_count": null,
   "id": "d85eaa5b-e0fa-4490-accb-a45b4f4afdac",
   "metadata": {},
   "outputs": [],
   "source": []
  },
  {
   "cell_type": "code",
   "execution_count": null,
   "id": "f4a1a174-0dc6-42c4-b632-05a230d450ab",
   "metadata": {},
   "outputs": [],
   "source": []
  },
  {
   "cell_type": "code",
   "execution_count": null,
   "id": "98d6233c-037d-4bde-b46e-641b406e27c0",
   "metadata": {},
   "outputs": [],
   "source": []
  },
  {
   "cell_type": "code",
   "execution_count": null,
   "id": "b9b6c760-6101-4f24-b949-082c114748ed",
   "metadata": {},
   "outputs": [],
   "source": []
  },
  {
   "cell_type": "code",
   "execution_count": null,
   "id": "401e571c-7088-417b-ac07-a45b57886e41",
   "metadata": {},
   "outputs": [],
   "source": []
  },
  {
   "cell_type": "code",
   "execution_count": null,
   "id": "8038ad5d-32fb-45a1-8a79-8269676696ab",
   "metadata": {},
   "outputs": [],
   "source": []
  },
  {
   "cell_type": "code",
   "execution_count": null,
   "id": "167830ed-f7eb-4eb5-bbae-544f512650ea",
   "metadata": {},
   "outputs": [],
   "source": []
  },
  {
   "cell_type": "code",
   "execution_count": null,
   "id": "98ba5450-83a4-4312-904b-7cb102c393e5",
   "metadata": {},
   "outputs": [],
   "source": []
  },
  {
   "cell_type": "code",
   "execution_count": null,
   "id": "08ba7fb3-9398-4163-b087-59cf32c91074",
   "metadata": {},
   "outputs": [],
   "source": []
  },
  {
   "cell_type": "code",
   "execution_count": null,
   "id": "94721c6d-ad2c-4b7f-a7c7-938bae792927",
   "metadata": {},
   "outputs": [],
   "source": []
  }
 ],
 "metadata": {
  "kernelspec": {
   "display_name": "Python 3 (ipykernel)",
   "language": "python",
   "name": "python3"
  },
  "language_info": {
   "codemirror_mode": {
    "name": "ipython",
    "version": 3
   },
   "file_extension": ".py",
   "mimetype": "text/x-python",
   "name": "python",
   "nbconvert_exporter": "python",
   "pygments_lexer": "ipython3",
   "version": "3.8.13"
  }
 },
 "nbformat": 4,
 "nbformat_minor": 5
}
