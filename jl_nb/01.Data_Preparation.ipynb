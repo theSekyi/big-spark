{
 "cells": [
  {
   "cell_type": "markdown",
   "id": "2730fd81-b8bb-4797-a108-1a7f04affc66",
   "metadata": {
    "tags": []
   },
   "source": [
    "### **Imports**"
   ]
  },
  {
   "cell_type": "code",
   "execution_count": 1,
   "id": "bc7c9239-d800-41e3-bfe3-672d726c6a31",
   "metadata": {},
   "outputs": [],
   "source": [
    "%load_ext lab_black\n",
    "%load_ext autoreload\n",
    "%autoreload 2"
   ]
  },
  {
   "cell_type": "code",
   "execution_count": 2,
   "id": "5b5fe02d",
   "metadata": {},
   "outputs": [],
   "source": [
    "import pandas as pd"
   ]
  },
  {
   "cell_type": "code",
   "execution_count": 3,
   "id": "ea10c34a-c95a-445e-88eb-976425274b0b",
   "metadata": {},
   "outputs": [],
   "source": [
    "pd.set_option(\"display.max_rows\", 100)"
   ]
  },
  {
   "cell_type": "markdown",
   "id": "3a6ba162-9588-44fc-b80f-6f926c791261",
   "metadata": {
    "tags": []
   },
   "source": [
    "### **Utility code**"
   ]
  },
  {
   "cell_type": "code",
   "execution_count": 4,
   "id": "afc0b5ef-472c-4828-83e0-22c396df25c8",
   "metadata": {},
   "outputs": [],
   "source": [
    "def convert_dat_to_df(src, columns):\n",
    "    \"\"\"Converts .dat file to csv\n",
    "\n",
    "    Parameters\n",
    "    ----------\n",
    "    src: path to .dat file\n",
    "    columns: column names of .dat file\n",
    "    \"\"\"\n",
    "    df = pd.read_csv(\n",
    "        src,\n",
    "        sep=\"|\",\n",
    "        header=None,\n",
    "        skipinitialspace=False,\n",
    "    ).reset_index(drop=True)\n",
    "    df = df.iloc[:, :-1]\n",
    "    df.columns = columns\n",
    "    return df"
   ]
  },
  {
   "cell_type": "markdown",
   "id": "35ee86a5-0a36-4060-85f0-612d1f8eb698",
   "metadata": {
    "jp-MarkdownHeadingCollapsed": true,
    "tags": []
   },
   "source": [
    "### **Items**"
   ]
  },
  {
   "cell_type": "code",
   "execution_count": 5,
   "id": "ffb40af9-8ace-4203-bcc3-6eff455849f0",
   "metadata": {},
   "outputs": [],
   "source": [
    "columns_items = [\n",
    "    \"i_item_sk\",\n",
    "    \"i_item_id\",\n",
    "    \"i_rec_start_date\",\n",
    "    \"i_rec_end_date\",\n",
    "    \"i_item_desc\",\n",
    "    \"i_current_price\",\n",
    "    \"i_wholesale_cost\",\n",
    "    \"i_brand_id\",\n",
    "    \"i_brand\",\n",
    "    \"i_class_id\",\n",
    "    \"i_class\",\n",
    "    \"i_category_id\",\n",
    "    \"i_category\",\n",
    "    \"i_manufact_id\",\n",
    "    \"i_manufact\",\n",
    "    \"i_size\",\n",
    "    \"i_formulation\",\n",
    "    \"i_color\",\n",
    "    \"i_units\",\n",
    "    \"i_container\",\n",
    "    \"i_manager_id\",\n",
    "    \"i_product_name\",\n",
    "]\n",
    "src_items = \"../tpcds_data_5g/item.dat\""
   ]
  },
  {
   "cell_type": "code",
   "execution_count": 6,
   "id": "242e5f18-9f8c-46ba-8f2e-81d7ee1ddbc2",
   "metadata": {},
   "outputs": [],
   "source": [
    "df_items = convert_dat_to_df(src_items, columns_items)"
   ]
  },
  {
   "cell_type": "code",
   "execution_count": 7,
   "id": "fc2debde-57c8-42e3-95e9-4d77398c4375",
   "metadata": {},
   "outputs": [
    {
     "data": {
      "text/plain": [
       "(54000, 22)"
      ]
     },
     "execution_count": 7,
     "metadata": {},
     "output_type": "execute_result"
    }
   ],
   "source": [
    "df_items.shape"
   ]
  },
  {
   "cell_type": "code",
   "execution_count": 8,
   "id": "ac07697d-dcc6-4e9c-876c-6412d62b96a5",
   "metadata": {},
   "outputs": [
    {
     "data": {
      "text/html": [
       "<div>\n",
       "<style scoped>\n",
       "    .dataframe tbody tr th:only-of-type {\n",
       "        vertical-align: middle;\n",
       "    }\n",
       "\n",
       "    .dataframe tbody tr th {\n",
       "        vertical-align: top;\n",
       "    }\n",
       "\n",
       "    .dataframe thead th {\n",
       "        text-align: right;\n",
       "    }\n",
       "</style>\n",
       "<table border=\"1\" class=\"dataframe\">\n",
       "  <thead>\n",
       "    <tr style=\"text-align: right;\">\n",
       "      <th></th>\n",
       "      <th>i_item_sk</th>\n",
       "      <th>i_item_id</th>\n",
       "      <th>i_rec_start_date</th>\n",
       "      <th>i_rec_end_date</th>\n",
       "      <th>i_item_desc</th>\n",
       "      <th>i_current_price</th>\n",
       "      <th>i_wholesale_cost</th>\n",
       "      <th>i_brand_id</th>\n",
       "      <th>i_brand</th>\n",
       "      <th>i_class_id</th>\n",
       "      <th>...</th>\n",
       "      <th>i_category</th>\n",
       "      <th>i_manufact_id</th>\n",
       "      <th>i_manufact</th>\n",
       "      <th>i_size</th>\n",
       "      <th>i_formulation</th>\n",
       "      <th>i_color</th>\n",
       "      <th>i_units</th>\n",
       "      <th>i_container</th>\n",
       "      <th>i_manager_id</th>\n",
       "      <th>i_product_name</th>\n",
       "    </tr>\n",
       "  </thead>\n",
       "  <tbody>\n",
       "    <tr>\n",
       "      <th>0</th>\n",
       "      <td>1</td>\n",
       "      <td>AAAAAAAABAAAAAAA</td>\n",
       "      <td>1997-10-27</td>\n",
       "      <td>NaN</td>\n",
       "      <td>Powers will not get influences. Electoral port...</td>\n",
       "      <td>27.02</td>\n",
       "      <td>23.23</td>\n",
       "      <td>5003002.0</td>\n",
       "      <td>exportischolar #2</td>\n",
       "      <td>3.0</td>\n",
       "      <td>...</td>\n",
       "      <td>Music</td>\n",
       "      <td>52.0</td>\n",
       "      <td>ableanti</td>\n",
       "      <td>NaN</td>\n",
       "      <td>3663peru009490160959</td>\n",
       "      <td>spring</td>\n",
       "      <td>Tsp</td>\n",
       "      <td>Unknown</td>\n",
       "      <td>6.0</td>\n",
       "      <td>ought</td>\n",
       "    </tr>\n",
       "    <tr>\n",
       "      <th>1</th>\n",
       "      <td>2</td>\n",
       "      <td>AAAAAAAACAAAAAAA</td>\n",
       "      <td>1997-10-27</td>\n",
       "      <td>2000-10-26</td>\n",
       "      <td>False opportunities would run alone with a vie...</td>\n",
       "      <td>1.12</td>\n",
       "      <td>0.38</td>\n",
       "      <td>1001001.0</td>\n",
       "      <td>amalgamalg #1</td>\n",
       "      <td>1.0</td>\n",
       "      <td>...</td>\n",
       "      <td>Women</td>\n",
       "      <td>294.0</td>\n",
       "      <td>esen stable</td>\n",
       "      <td>petite</td>\n",
       "      <td>516steel060826230906</td>\n",
       "      <td>rosy</td>\n",
       "      <td>Bunch</td>\n",
       "      <td>Unknown</td>\n",
       "      <td>98.0</td>\n",
       "      <td>able</td>\n",
       "    </tr>\n",
       "    <tr>\n",
       "      <th>2</th>\n",
       "      <td>3</td>\n",
       "      <td>AAAAAAAACAAAAAAA</td>\n",
       "      <td>2000-10-27</td>\n",
       "      <td>NaN</td>\n",
       "      <td>False opportunities would run alone with a vie...</td>\n",
       "      <td>7.11</td>\n",
       "      <td>0.38</td>\n",
       "      <td>1001001.0</td>\n",
       "      <td>brandbrand #4</td>\n",
       "      <td>7.0</td>\n",
       "      <td>...</td>\n",
       "      <td>Home</td>\n",
       "      <td>294.0</td>\n",
       "      <td>esen stable</td>\n",
       "      <td>NaN</td>\n",
       "      <td>516steel060826230906</td>\n",
       "      <td>sienna</td>\n",
       "      <td>Cup</td>\n",
       "      <td>Unknown</td>\n",
       "      <td>18.0</td>\n",
       "      <td>pri</td>\n",
       "    </tr>\n",
       "  </tbody>\n",
       "</table>\n",
       "<p>3 rows × 22 columns</p>\n",
       "</div>"
      ],
      "text/plain": [
       "   i_item_sk         i_item_id i_rec_start_date i_rec_end_date  \\\n",
       "0          1  AAAAAAAABAAAAAAA       1997-10-27            NaN   \n",
       "1          2  AAAAAAAACAAAAAAA       1997-10-27     2000-10-26   \n",
       "2          3  AAAAAAAACAAAAAAA       2000-10-27            NaN   \n",
       "\n",
       "                                         i_item_desc  i_current_price  \\\n",
       "0  Powers will not get influences. Electoral port...            27.02   \n",
       "1  False opportunities would run alone with a vie...             1.12   \n",
       "2  False opportunities would run alone with a vie...             7.11   \n",
       "\n",
       "   i_wholesale_cost  i_brand_id            i_brand  i_class_id  ...  \\\n",
       "0             23.23   5003002.0  exportischolar #2         3.0  ...   \n",
       "1              0.38   1001001.0      amalgamalg #1         1.0  ...   \n",
       "2              0.38   1001001.0      brandbrand #4         7.0  ...   \n",
       "\n",
       "  i_category  i_manufact_id   i_manufact  i_size         i_formulation  \\\n",
       "0      Music           52.0     ableanti     NaN  3663peru009490160959   \n",
       "1      Women          294.0  esen stable  petite  516steel060826230906   \n",
       "2       Home          294.0  esen stable     NaN  516steel060826230906   \n",
       "\n",
       "  i_color i_units i_container i_manager_id i_product_name  \n",
       "0  spring     Tsp     Unknown          6.0          ought  \n",
       "1    rosy   Bunch     Unknown         98.0           able  \n",
       "2  sienna     Cup     Unknown         18.0            pri  \n",
       "\n",
       "[3 rows x 22 columns]"
      ]
     },
     "execution_count": 8,
     "metadata": {},
     "output_type": "execute_result"
    }
   ],
   "source": [
    "df_items.head(3)"
   ]
  },
  {
   "cell_type": "code",
   "execution_count": null,
   "id": "db8940bf-1620-49f3-82f0-318fb12ed70d",
   "metadata": {},
   "outputs": [],
   "source": []
  },
  {
   "cell_type": "markdown",
   "id": "9e07a2a9-6559-4af9-8603-6c4f8dece134",
   "metadata": {
    "jp-MarkdownHeadingCollapsed": true,
    "tags": []
   },
   "source": [
    "### **Date**"
   ]
  },
  {
   "cell_type": "code",
   "execution_count": 9,
   "id": "d94f8c59-e99c-4107-92db-195c75a6ab1a",
   "metadata": {},
   "outputs": [],
   "source": [
    "columns_date = [\n",
    "    \"d_date_sk\",\n",
    "    \"d_date_id\",\n",
    "    \"d_date\",\n",
    "    \"d_month_seq\",\n",
    "    \"d_week_seq\",\n",
    "    \"d_quarter_seq\",\n",
    "    \"d_year\",\n",
    "    \"d_dow\",\n",
    "    \"d_moy\",\n",
    "    \"d_dom\",\n",
    "    \"d_qoy\",\n",
    "    \"d_fy_year\",\n",
    "    \"d_fy_quarter_seq\",\n",
    "    \"d_fy_week_seq\",\n",
    "    \"d_day_name\",\n",
    "    \"d_quarter_name\",\n",
    "    \"d_holiday\",\n",
    "    \"d_weekend\",\n",
    "    \"d_following_holiday\",\n",
    "    \"d_first_dom\",\n",
    "    \"d_last_dom\",\n",
    "    \"d_same_day_ly\",\n",
    "    \"d_same_day_lq\",\n",
    "    \"d_current_day\",\n",
    "    \"d_current_week\",\n",
    "    \"d_current_month\",\n",
    "    \"d_current_quarter\",\n",
    "    \"d_current_year\",\n",
    "]\n",
    "src_date = \"../tpcds_data_5g/date_dim.dat\""
   ]
  },
  {
   "cell_type": "code",
   "execution_count": 10,
   "id": "a9578c6e-faeb-437a-81f5-bd3952927a8a",
   "metadata": {},
   "outputs": [],
   "source": [
    "df_date = convert_dat_to_df(src_date, columns_date)"
   ]
  },
  {
   "cell_type": "code",
   "execution_count": null,
   "id": "b1ce07b6-e629-4aa3-89eb-9943d5064df4",
   "metadata": {},
   "outputs": [],
   "source": []
  },
  {
   "cell_type": "code",
   "execution_count": null,
   "id": "8a1fe7ca-9110-43d8-8bed-f5fcd6b520de",
   "metadata": {},
   "outputs": [],
   "source": []
  },
  {
   "cell_type": "markdown",
   "id": "19add71d-3936-4b7f-b9fc-3c06f9e339f5",
   "metadata": {
    "jp-MarkdownHeadingCollapsed": true,
    "tags": []
   },
   "source": [
    "### **Time**"
   ]
  },
  {
   "cell_type": "code",
   "execution_count": 11,
   "id": "bf17d208-c3ae-40cd-bc7c-e715043dcbee",
   "metadata": {},
   "outputs": [],
   "source": [
    "columns_time = [\n",
    "    \"t_time_sk\",\n",
    "    \"t_time_id\",\n",
    "    \"t_time\",\n",
    "    \"t_hour\",\n",
    "    \"t_minute\",\n",
    "    \"t_second\",\n",
    "    \"t_am_pm\",\n",
    "    \"t_shift\",\n",
    "    \"t_sub_shift\",\n",
    "    \"t_meal_time\",\n",
    "]\n",
    "src_time = \"../tpcds_data_5g/time_dim.dat\""
   ]
  },
  {
   "cell_type": "code",
   "execution_count": 12,
   "id": "912466a6-c318-48b9-a750-6e532c2ad69f",
   "metadata": {},
   "outputs": [],
   "source": [
    "df_time = convert_dat_to_df(src_time, columns_time)"
   ]
  },
  {
   "cell_type": "code",
   "execution_count": null,
   "id": "443a5c3c-9a75-4cb9-a748-30732eed0c5c",
   "metadata": {},
   "outputs": [],
   "source": []
  },
  {
   "cell_type": "code",
   "execution_count": null,
   "id": "8f5cb65a-f235-4ae6-9e9f-34f1dc014058",
   "metadata": {},
   "outputs": [],
   "source": []
  },
  {
   "cell_type": "markdown",
   "id": "a5bebb02",
   "metadata": {
    "jp-MarkdownHeadingCollapsed": true,
    "tags": []
   },
   "source": [
    "### **Call Center**"
   ]
  },
  {
   "cell_type": "code",
   "execution_count": 13,
   "id": "c886793f",
   "metadata": {},
   "outputs": [],
   "source": [
    "columns = [\n",
    "    \"cc_call_center_sk\",\n",
    "    \"cc_call_center_id\",\n",
    "    \"cc_rec_start_date\",\n",
    "    \"cc_rec_end_date\",\n",
    "    \"cc_closed_date_sk\",\n",
    "    \"cc_open_date_sk   \",\n",
    "    \"cc_name   \",\n",
    "    \"cc_class  \",\n",
    "    \"cc_employees   \",\n",
    "    \"cc_sq_ft   \",\n",
    "    \"cc_hours  \",\n",
    "    \"cc_manager  \",\n",
    "    \"cc_mkt_id  \",\n",
    "    \"cc_mkt_class \",\n",
    "    \"cc_mkt_desc   \",\n",
    "    \"cc_market_manager  \",\n",
    "    \"cc_division   \",\n",
    "    \"cc_division_name\",\n",
    "    \"cc_company\",\n",
    "    \"cc_company_name\",\n",
    "    \"cc_street_number \",\n",
    "    \"cc_street_name\",\n",
    "    \"cc_street_type\",\n",
    "    \"cc_suite_number\",\n",
    "    \"cc_city  \",\n",
    "    \"cc_county\",\n",
    "    \"cc_state \",\n",
    "    \"cc_zip \",\n",
    "    \"cc_country\",\n",
    "    \"cc_gmt_offset \",\n",
    "    \"cc_tax_percentage\",\n",
    "]\n",
    "src_cc = \"../tpcds_data_5g/call_center.dat\""
   ]
  },
  {
   "cell_type": "code",
   "execution_count": 14,
   "id": "18d1e9cf-2810-403b-ac75-b1347f6d3306",
   "metadata": {},
   "outputs": [],
   "source": [
    "df_cc = convert_dat_to_df(src_cc, columns)"
   ]
  },
  {
   "cell_type": "markdown",
   "id": "fd4dadb1",
   "metadata": {
    "tags": []
   },
   "source": [
    "### **Store Sales**"
   ]
  },
  {
   "cell_type": "code",
   "execution_count": 15,
   "id": "8ff2c11e",
   "metadata": {},
   "outputs": [],
   "source": [
    "columns_store_sales = [\n",
    "    \"ss_sold_date_sk\",\n",
    "    \"ss_sold_time_sk\",\n",
    "    \"ss_item_sk\",\n",
    "    \"ss_customer_sk\",\n",
    "    \"ss_cdemo_sk\",\n",
    "    \"ss_hdemo_sk\",\n",
    "    \"ss_addr_sk\",\n",
    "    \"ss_store_sk\",\n",
    "    \"ss_promo_sk\",\n",
    "    \"ss_ticket_number\",\n",
    "    \"ss_quantity\",\n",
    "    \"ss_wholesale_cost\",\n",
    "    \"ss_list_price\",\n",
    "    \"ss_sales_price\",\n",
    "    \"ss_ext_discount_amt\",\n",
    "    \"ss_ext_sales_price\",\n",
    "    \"ss_ext_wholesale_cost\",\n",
    "    \"ss_ext_list_price\",\n",
    "    \"ss_ext_tax\",\n",
    "    \"ss_coupon_amt\",\n",
    "    \"ss_net_paid\",\n",
    "    \"ss_net_paid_inc_tax\",\n",
    "    \"ss_net_profit\",\n",
    "]\n",
    "src_store_sales = \"../tpcds_data_5g/store_sales.dat\""
   ]
  },
  {
   "cell_type": "code",
   "execution_count": 16,
   "id": "ce05b17e",
   "metadata": {},
   "outputs": [],
   "source": [
    "df_store_sales = convert_dat_to_df(src_store_sales, columns_store_sales)"
   ]
  },
  {
   "cell_type": "code",
   "execution_count": 17,
   "id": "d66eed10-87a7-4fba-a886-3ac457dd432c",
   "metadata": {},
   "outputs": [
    {
     "data": {
      "text/plain": [
       "(14400052, 23)"
      ]
     },
     "execution_count": 17,
     "metadata": {},
     "output_type": "execute_result"
    }
   ],
   "source": [
    "df_store_sales.shape"
   ]
  },
  {
   "cell_type": "code",
   "execution_count": 18,
   "id": "29484cfb-fe2e-4dff-8d47-5e5e2b94e36b",
   "metadata": {},
   "outputs": [
    {
     "data": {
      "text/html": [
       "<div>\n",
       "<style scoped>\n",
       "    .dataframe tbody tr th:only-of-type {\n",
       "        vertical-align: middle;\n",
       "    }\n",
       "\n",
       "    .dataframe tbody tr th {\n",
       "        vertical-align: top;\n",
       "    }\n",
       "\n",
       "    .dataframe thead th {\n",
       "        text-align: right;\n",
       "    }\n",
       "</style>\n",
       "<table border=\"1\" class=\"dataframe\">\n",
       "  <thead>\n",
       "    <tr style=\"text-align: right;\">\n",
       "      <th></th>\n",
       "      <th>ss_sold_date_sk</th>\n",
       "      <th>ss_sold_time_sk</th>\n",
       "      <th>ss_item_sk</th>\n",
       "      <th>ss_customer_sk</th>\n",
       "      <th>ss_cdemo_sk</th>\n",
       "      <th>ss_hdemo_sk</th>\n",
       "      <th>ss_addr_sk</th>\n",
       "      <th>ss_store_sk</th>\n",
       "      <th>ss_promo_sk</th>\n",
       "      <th>ss_ticket_number</th>\n",
       "      <th>...</th>\n",
       "      <th>ss_sales_price</th>\n",
       "      <th>ss_ext_discount_amt</th>\n",
       "      <th>ss_ext_sales_price</th>\n",
       "      <th>ss_ext_wholesale_cost</th>\n",
       "      <th>ss_ext_list_price</th>\n",
       "      <th>ss_ext_tax</th>\n",
       "      <th>ss_coupon_amt</th>\n",
       "      <th>ss_net_paid</th>\n",
       "      <th>ss_net_paid_inc_tax</th>\n",
       "      <th>ss_net_profit</th>\n",
       "    </tr>\n",
       "  </thead>\n",
       "  <tbody>\n",
       "    <tr>\n",
       "      <th>0</th>\n",
       "      <td>2451813.0</td>\n",
       "      <td>65495.0</td>\n",
       "      <td>41120</td>\n",
       "      <td>246006.0</td>\n",
       "      <td>591617.0</td>\n",
       "      <td>3428.0</td>\n",
       "      <td>26839.0</td>\n",
       "      <td>22.0</td>\n",
       "      <td>209.0</td>\n",
       "      <td>1</td>\n",
       "      <td>...</td>\n",
       "      <td>2.80</td>\n",
       "      <td>99.54</td>\n",
       "      <td>221.20</td>\n",
       "      <td>901.39</td>\n",
       "      <td>1478.09</td>\n",
       "      <td>6.08</td>\n",
       "      <td>99.54</td>\n",
       "      <td>121.66</td>\n",
       "      <td>127.74</td>\n",
       "      <td>-779.73</td>\n",
       "    </tr>\n",
       "    <tr>\n",
       "      <th>1</th>\n",
       "      <td>2451813.0</td>\n",
       "      <td>65495.0</td>\n",
       "      <td>25538</td>\n",
       "      <td>246006.0</td>\n",
       "      <td>591617.0</td>\n",
       "      <td>3428.0</td>\n",
       "      <td>26839.0</td>\n",
       "      <td>22.0</td>\n",
       "      <td>42.0</td>\n",
       "      <td>1</td>\n",
       "      <td>...</td>\n",
       "      <td>41.47</td>\n",
       "      <td>46.03</td>\n",
       "      <td>1534.39</td>\n",
       "      <td>2354.31</td>\n",
       "      <td>3743.29</td>\n",
       "      <td>59.53</td>\n",
       "      <td>46.03</td>\n",
       "      <td>1488.36</td>\n",
       "      <td>1547.89</td>\n",
       "      <td>-865.95</td>\n",
       "    </tr>\n",
       "    <tr>\n",
       "      <th>2</th>\n",
       "      <td>2451813.0</td>\n",
       "      <td>65495.0</td>\n",
       "      <td>13631</td>\n",
       "      <td>246006.0</td>\n",
       "      <td>591617.0</td>\n",
       "      <td>3428.0</td>\n",
       "      <td>26839.0</td>\n",
       "      <td>22.0</td>\n",
       "      <td>52.0</td>\n",
       "      <td>1</td>\n",
       "      <td>...</td>\n",
       "      <td>83.98</td>\n",
       "      <td>0.00</td>\n",
       "      <td>8314.02</td>\n",
       "      <td>7971.48</td>\n",
       "      <td>13630.32</td>\n",
       "      <td>0.00</td>\n",
       "      <td>0.00</td>\n",
       "      <td>8314.02</td>\n",
       "      <td>8314.02</td>\n",
       "      <td>342.54</td>\n",
       "    </tr>\n",
       "    <tr>\n",
       "      <th>3</th>\n",
       "      <td>2451813.0</td>\n",
       "      <td>65495.0</td>\n",
       "      <td>27629</td>\n",
       "      <td>246006.0</td>\n",
       "      <td>591617.0</td>\n",
       "      <td>3428.0</td>\n",
       "      <td>26839.0</td>\n",
       "      <td>22.0</td>\n",
       "      <td>112.0</td>\n",
       "      <td>1</td>\n",
       "      <td>...</td>\n",
       "      <td>6.10</td>\n",
       "      <td>0.00</td>\n",
       "      <td>85.40</td>\n",
       "      <td>803.18</td>\n",
       "      <td>1068.20</td>\n",
       "      <td>0.00</td>\n",
       "      <td>0.00</td>\n",
       "      <td>85.40</td>\n",
       "      <td>85.40</td>\n",
       "      <td>-717.78</td>\n",
       "    </tr>\n",
       "    <tr>\n",
       "      <th>4</th>\n",
       "      <td>2451813.0</td>\n",
       "      <td>65495.0</td>\n",
       "      <td>37652</td>\n",
       "      <td>246006.0</td>\n",
       "      <td>591617.0</td>\n",
       "      <td>3428.0</td>\n",
       "      <td>26839.0</td>\n",
       "      <td>22.0</td>\n",
       "      <td>384.0</td>\n",
       "      <td>1</td>\n",
       "      <td>...</td>\n",
       "      <td>0.73</td>\n",
       "      <td>0.00</td>\n",
       "      <td>73.00</td>\n",
       "      <td>2508.00</td>\n",
       "      <td>3686.00</td>\n",
       "      <td>6.57</td>\n",
       "      <td>0.00</td>\n",
       "      <td>73.00</td>\n",
       "      <td>79.57</td>\n",
       "      <td>-2435.00</td>\n",
       "    </tr>\n",
       "  </tbody>\n",
       "</table>\n",
       "<p>5 rows × 23 columns</p>\n",
       "</div>"
      ],
      "text/plain": [
       "   ss_sold_date_sk  ss_sold_time_sk  ss_item_sk  ss_customer_sk  ss_cdemo_sk  \\\n",
       "0        2451813.0          65495.0       41120        246006.0     591617.0   \n",
       "1        2451813.0          65495.0       25538        246006.0     591617.0   \n",
       "2        2451813.0          65495.0       13631        246006.0     591617.0   \n",
       "3        2451813.0          65495.0       27629        246006.0     591617.0   \n",
       "4        2451813.0          65495.0       37652        246006.0     591617.0   \n",
       "\n",
       "   ss_hdemo_sk  ss_addr_sk  ss_store_sk  ss_promo_sk  ss_ticket_number  ...  \\\n",
       "0       3428.0     26839.0         22.0        209.0                 1  ...   \n",
       "1       3428.0     26839.0         22.0         42.0                 1  ...   \n",
       "2       3428.0     26839.0         22.0         52.0                 1  ...   \n",
       "3       3428.0     26839.0         22.0        112.0                 1  ...   \n",
       "4       3428.0     26839.0         22.0        384.0                 1  ...   \n",
       "\n",
       "   ss_sales_price  ss_ext_discount_amt  ss_ext_sales_price  \\\n",
       "0            2.80                99.54              221.20   \n",
       "1           41.47                46.03             1534.39   \n",
       "2           83.98                 0.00             8314.02   \n",
       "3            6.10                 0.00               85.40   \n",
       "4            0.73                 0.00               73.00   \n",
       "\n",
       "   ss_ext_wholesale_cost  ss_ext_list_price  ss_ext_tax  ss_coupon_amt  \\\n",
       "0                 901.39            1478.09        6.08          99.54   \n",
       "1                2354.31            3743.29       59.53          46.03   \n",
       "2                7971.48           13630.32        0.00           0.00   \n",
       "3                 803.18            1068.20        0.00           0.00   \n",
       "4                2508.00            3686.00        6.57           0.00   \n",
       "\n",
       "   ss_net_paid  ss_net_paid_inc_tax  ss_net_profit  \n",
       "0       121.66               127.74        -779.73  \n",
       "1      1488.36              1547.89        -865.95  \n",
       "2      8314.02              8314.02         342.54  \n",
       "3        85.40                85.40        -717.78  \n",
       "4        73.00                79.57       -2435.00  \n",
       "\n",
       "[5 rows x 23 columns]"
      ]
     },
     "execution_count": 18,
     "metadata": {},
     "output_type": "execute_result"
    }
   ],
   "source": [
    "df_store_sales.head(5)"
   ]
  },
  {
   "cell_type": "code",
   "execution_count": 19,
   "id": "69c87b63-01e5-4acc-85d0-2c4a2b22f12a",
   "metadata": {},
   "outputs": [
    {
     "data": {
      "text/plain": [
       "16261    621\n",
       "46183    617\n",
       "13939    617\n",
       "46537    614\n",
       "24031    611\n",
       "        ... \n",
       "50862     75\n",
       "39948     75\n",
       "14310     75\n",
       "53352     75\n",
       "780       74\n",
       "Name: ss_item_sk, Length: 54000, dtype: int64"
      ]
     },
     "execution_count": 19,
     "metadata": {},
     "output_type": "execute_result"
    }
   ],
   "source": [
    "df_store_sales[\"ss_item_sk\"].value_counts()"
   ]
  },
  {
   "cell_type": "code",
   "execution_count": 20,
   "id": "13e19619-58a4-4509-82b9-72ae0d5bda33",
   "metadata": {},
   "outputs": [
    {
     "data": {
      "text/plain": [
       "40.0    514090\n",
       "1.0     513627\n",
       "32.0    513005\n",
       "52.0    513004\n",
       "28.0    512809\n",
       "49.0    511627\n",
       "4.0     511534\n",
       "20.0    511225\n",
       "26.0    510180\n",
       "22.0    509736\n",
       "34.0    509562\n",
       "16.0    509493\n",
       "31.0    509392\n",
       "2.0     509352\n",
       "43.0    509203\n",
       "8.0     509068\n",
       "19.0    508594\n",
       "50.0    508204\n",
       "46.0    508095\n",
       "44.0    507351\n",
       "10.0    507250\n",
       "14.0    506897\n",
       "37.0    506515\n",
       "13.0    506396\n",
       "7.0     505747\n",
       "38.0    505528\n",
       "25.0    504455\n",
       "Name: ss_store_sk, dtype: int64"
      ]
     },
     "execution_count": 20,
     "metadata": {},
     "output_type": "execute_result"
    }
   ],
   "source": [
    "df_store_sales[\"ss_store_sk\"].value_counts()"
   ]
  },
  {
   "cell_type": "markdown",
   "id": "072fffcb-7b4d-42e2-85c0-20c5ab316751",
   "metadata": {},
   "source": [
    "#### **Merge on items**"
   ]
  },
  {
   "cell_type": "code",
   "execution_count": 21,
   "id": "4426cebb-2e08-4213-83b0-00bb8081d69c",
   "metadata": {},
   "outputs": [],
   "source": [
    "df_store_items = df_store_sales.merge(\n",
    "    df_items, how=\"left\", left_on=[\"ss_item_sk\"], right_on=[\"i_item_sk\"]\n",
    ")"
   ]
  },
  {
   "cell_type": "code",
   "execution_count": 22,
   "id": "a07e5b0b-cea5-4321-91f3-9f32c7428910",
   "metadata": {},
   "outputs": [
    {
     "data": {
      "text/plain": [
       "<AxesSubplot:>"
      ]
     },
     "execution_count": 22,
     "metadata": {},
     "output_type": "execute_result"
    },
    {
     "data": {
      "image/png": "[encoded data removed]",
      "text/plain": [
       "<Figure size 432x288 with 1 Axes>"
      ]
     },
     "metadata": {
      "needs_background": "light"
     },
     "output_type": "display_data"
    }
   ],
   "source": [
    "df_store_items[\"i_product_name\"].value_counts()[:5].plot(kind=\"barh\")"
   ]
  },
  {
   "cell_type": "code",
   "execution_count": null,
   "id": "cdfa7a32-1315-45c5-8c83-c41ba8a150f8",
   "metadata": {},
   "outputs": [],
   "source": []
  },
  {
   "cell_type": "markdown",
   "id": "e44f594b-820e-4e0c-bdf6-08e331295df0",
   "metadata": {},
   "source": [
    "#### **Merge on Date**"
   ]
  },
  {
   "cell_type": "code",
   "execution_count": 23,
   "id": "9636eb2f-53f0-4e0f-9577-026f655c4307",
   "metadata": {},
   "outputs": [],
   "source": [
    "df_store_item_date = df_store_items.merge(\n",
    "    df_date, how=\"left\", left_on=[\"ss_sold_date_sk\"], right_on=[\"d_date_sk\"]\n",
    ")"
   ]
  },
  {
   "cell_type": "code",
   "execution_count": null,
   "id": "094307ba-a8b3-4c5b-8292-4ce9d126eb8f",
   "metadata": {},
   "outputs": [],
   "source": []
  },
  {
   "cell_type": "markdown",
   "id": "a1be6613-f642-4cfd-92ee-933204ae5f74",
   "metadata": {},
   "source": [
    "#### **Merge on Time**"
   ]
  },
  {
   "cell_type": "code",
   "execution_count": null,
   "id": "a9b95ca8-dd57-43e1-b605-b84bad9ddad5",
   "metadata": {},
   "outputs": [],
   "source": [
    "df_store_item_date_time = df_store_item_date.merge(\n",
    "    df_time, how=\"left\", left_on=[\"ss_sold_time_sk\"], right_on=[\"t_time_sk\"]\n",
    ")"
   ]
  },
  {
   "cell_type": "code",
   "execution_count": null,
   "id": "7d489281-c71c-4088-9ebb-e0cef3572ce5",
   "metadata": {},
   "outputs": [],
   "source": []
  },
  {
   "cell_type": "code",
   "execution_count": null,
   "id": "b07bb85c-3ea1-4809-938b-1e2100be5d3f",
   "metadata": {},
   "outputs": [],
   "source": [
    "def convert_df_to_pq(df, dest):\n",
    "    import pyarrow as pa\n",
    "    import pyarrow.parquet as pq\n",
    "\n",
    "    table = pa.Table.from_pandas(df)\n",
    "    pq.write_table(table, dest, compression=\"GZIP\")"
   ]
  },
  {
   "cell_type": "code",
   "execution_count": 207,
   "id": "491d1e3d-b53f-47a8-b606-7b72527025b9",
   "metadata": {},
   "outputs": [],
   "source": [
    "convert_df_to_pq(df_store_item_date_time, \"../data/df_store_item_date_time.parquet\")"
   ]
  },
  {
   "cell_type": "code",
   "execution_count": null,
   "id": "94a684ed-c45a-4866-b587-29a78ae041ae",
   "metadata": {},
   "outputs": [],
   "source": []
  },
  {
   "cell_type": "code",
   "execution_count": null,
   "id": "217f58d1-3554-41f3-ac3c-280f511205fa",
   "metadata": {},
   "outputs": [],
   "source": []
  },
  {
   "cell_type": "code",
   "execution_count": null,
   "id": "8b9cfad0-abcf-4971-89fa-99419f029579",
   "metadata": {},
   "outputs": [],
   "source": []
  },
  {
   "cell_type": "code",
   "execution_count": null,
   "id": "2376a231-a5c2-4f01-a1b5-9631d958722b",
   "metadata": {},
   "outputs": [],
   "source": []
  },
  {
   "cell_type": "code",
   "execution_count": null,
   "id": "ebb910c6-9c90-41f6-a18b-e09a2024f99b",
   "metadata": {},
   "outputs": [],
   "source": []
  },
  {
   "cell_type": "markdown",
   "id": "785ef79d-1e2a-4f52-957b-22ff412e185d",
   "metadata": {
    "jp-MarkdownHeadingCollapsed": true,
    "tags": []
   },
   "source": [
    "### Web Sales"
   ]
  },
  {
   "cell_type": "code",
   "execution_count": 149,
   "id": "5e4e7ec6-2bc6-43fe-886e-fd963f64f5d1",
   "metadata": {},
   "outputs": [],
   "source": [
    "columns_web_sales = [\n",
    "    \"ws_sold_date_sk\",\n",
    "    \"ws_sold_time_sk\",\n",
    "    \"ws_ship_date_sk\",\n",
    "    \"ws_item_sk\",\n",
    "    \"ws_bill_customer_sk\",\n",
    "    \"ws_bill_cdemo_sk\",\n",
    "    \"ws_bill_hdemo_sk\",\n",
    "    \"ws_bill_addr_sk\",\n",
    "    \"ws_ship_customer_sk\",\n",
    "    \"ws_ship_cdemo_sk\",\n",
    "    \"ws_ship_hdemo_sk\",\n",
    "    \"ws_ship_addr_sk\",\n",
    "    \"ws_web_page_sk\",\n",
    "    \"ws_web_site_sk\",\n",
    "    \"ws_ship_mode_sk\",\n",
    "    \"ws_warehouse_sk\",\n",
    "    \"ws_promo_sk\",\n",
    "    \"ws_order_number\",\n",
    "    \"ws_quantity\",\n",
    "    \"ws_wholesale_cost\",\n",
    "    \"ws_list_price\",\n",
    "    \"ws_sales_price\",\n",
    "    \"ws_ext_discount_amt\",\n",
    "    \"ws_ext_sales_price\",\n",
    "    \"ws_ext_wholesale_cost\",\n",
    "    \"ws_ext_list_price\",\n",
    "    \"ws_ext_tax\",\n",
    "    \"ws_coupon_amt\",\n",
    "    \"ws_ext_ship_cost\",\n",
    "    \"ws_net_paid\",\n",
    "    \"ws_net_paid_inc_tax\",\n",
    "    \"ws_net_paid_inc_ship\",\n",
    "    \"ws_net_paid_inc_ship_tax\",\n",
    "    \"ws_net_profit\",\n",
    "]\n",
    "src_web_sales = \"../tpcds_data_5g/web_sales.dat\""
   ]
  },
  {
   "cell_type": "code",
   "execution_count": 150,
   "id": "ce0fd9fa-11e9-41b6-a8af-bccd9c52a284",
   "metadata": {},
   "outputs": [],
   "source": [
    "df_web_sales = convert_dat_to_df(src_web_sales, columns_web_sales)"
   ]
  },
  {
   "cell_type": "code",
   "execution_count": 151,
   "id": "517b8e31-0aae-4a77-a342-e197bf209ebf",
   "metadata": {},
   "outputs": [
    {
     "data": {
      "text/html": [
       "<div>\n",
       "<style scoped>\n",
       "    .dataframe tbody tr th:only-of-type {\n",
       "        vertical-align: middle;\n",
       "    }\n",
       "\n",
       "    .dataframe tbody tr th {\n",
       "        vertical-align: top;\n",
       "    }\n",
       "\n",
       "    .dataframe thead th {\n",
       "        text-align: right;\n",
       "    }\n",
       "</style>\n",
       "<table border=\"1\" class=\"dataframe\">\n",
       "  <thead>\n",
       "    <tr style=\"text-align: right;\">\n",
       "      <th></th>\n",
       "      <th>ws_sold_date_sk</th>\n",
       "      <th>ws_sold_time_sk</th>\n",
       "      <th>ws_ship_date_sk</th>\n",
       "      <th>ws_item_sk</th>\n",
       "      <th>ws_bill_customer_sk</th>\n",
       "      <th>ws_bill_cdemo_sk</th>\n",
       "      <th>ws_bill_hdemo_sk</th>\n",
       "      <th>ws_bill_addr_sk</th>\n",
       "      <th>ws_ship_customer_sk</th>\n",
       "      <th>ws_ship_cdemo_sk</th>\n",
       "      <th>...</th>\n",
       "      <th>ws_ext_wholesale_cost</th>\n",
       "      <th>ws_ext_list_price</th>\n",
       "      <th>ws_ext_tax</th>\n",
       "      <th>ws_coupon_amt</th>\n",
       "      <th>ws_ext_ship_cost</th>\n",
       "      <th>ws_net_paid</th>\n",
       "      <th>ws_net_paid_inc_tax</th>\n",
       "      <th>ws_net_paid_inc_ship</th>\n",
       "      <th>ws_net_paid_inc_ship_tax</th>\n",
       "      <th>ws_net_profit</th>\n",
       "    </tr>\n",
       "  </thead>\n",
       "  <tbody>\n",
       "    <tr>\n",
       "      <th>0</th>\n",
       "      <td>2451383.0</td>\n",
       "      <td>73313.0</td>\n",
       "      <td>2451482.0</td>\n",
       "      <td>35833</td>\n",
       "      <td>172074.0</td>\n",
       "      <td>596485.0</td>\n",
       "      <td>1096.0</td>\n",
       "      <td>128907.0</td>\n",
       "      <td>178919.0</td>\n",
       "      <td>41329.0</td>\n",
       "      <td>...</td>\n",
       "      <td>1914.63</td>\n",
       "      <td>3388.65</td>\n",
       "      <td>50.95</td>\n",
       "      <td>1149.18</td>\n",
       "      <td>575.70</td>\n",
       "      <td>1019.10</td>\n",
       "      <td>1070.05</td>\n",
       "      <td>1594.80</td>\n",
       "      <td>1645.75</td>\n",
       "      <td>-895.53</td>\n",
       "    </tr>\n",
       "    <tr>\n",
       "      <th>1</th>\n",
       "      <td>2451383.0</td>\n",
       "      <td>73313.0</td>\n",
       "      <td>2451411.0</td>\n",
       "      <td>27758</td>\n",
       "      <td>172074.0</td>\n",
       "      <td>596485.0</td>\n",
       "      <td>1096.0</td>\n",
       "      <td>128907.0</td>\n",
       "      <td>178919.0</td>\n",
       "      <td>41329.0</td>\n",
       "      <td>...</td>\n",
       "      <td>1133.54</td>\n",
       "      <td>1858.96</td>\n",
       "      <td>30.10</td>\n",
       "      <td>0.00</td>\n",
       "      <td>910.86</td>\n",
       "      <td>1003.58</td>\n",
       "      <td>1033.68</td>\n",
       "      <td>1914.44</td>\n",
       "      <td>1944.54</td>\n",
       "      <td>-129.96</td>\n",
       "    </tr>\n",
       "    <tr>\n",
       "      <th>2</th>\n",
       "      <td>2451383.0</td>\n",
       "      <td>73313.0</td>\n",
       "      <td>2451413.0</td>\n",
       "      <td>20456</td>\n",
       "      <td>172074.0</td>\n",
       "      <td>596485.0</td>\n",
       "      <td>1096.0</td>\n",
       "      <td>128907.0</td>\n",
       "      <td>178919.0</td>\n",
       "      <td>41329.0</td>\n",
       "      <td>...</td>\n",
       "      <td>1591.04</td>\n",
       "      <td>3452.48</td>\n",
       "      <td>124.28</td>\n",
       "      <td>0.00</td>\n",
       "      <td>828.48</td>\n",
       "      <td>3107.20</td>\n",
       "      <td>3231.48</td>\n",
       "      <td>3935.68</td>\n",
       "      <td>4059.96</td>\n",
       "      <td>1516.16</td>\n",
       "    </tr>\n",
       "    <tr>\n",
       "      <th>3</th>\n",
       "      <td>2451383.0</td>\n",
       "      <td>73313.0</td>\n",
       "      <td>2451393.0</td>\n",
       "      <td>36872</td>\n",
       "      <td>172074.0</td>\n",
       "      <td>596485.0</td>\n",
       "      <td>1096.0</td>\n",
       "      <td>128907.0</td>\n",
       "      <td>178919.0</td>\n",
       "      <td>41329.0</td>\n",
       "      <td>...</td>\n",
       "      <td>4496.70</td>\n",
       "      <td>7284.55</td>\n",
       "      <td>29.13</td>\n",
       "      <td>0.00</td>\n",
       "      <td>2476.50</td>\n",
       "      <td>1456.65</td>\n",
       "      <td>1485.78</td>\n",
       "      <td>3933.15</td>\n",
       "      <td>3962.28</td>\n",
       "      <td>-3040.05</td>\n",
       "    </tr>\n",
       "    <tr>\n",
       "      <th>4</th>\n",
       "      <td>2451383.0</td>\n",
       "      <td>73313.0</td>\n",
       "      <td>2451502.0</td>\n",
       "      <td>26948</td>\n",
       "      <td>172074.0</td>\n",
       "      <td>596485.0</td>\n",
       "      <td>1096.0</td>\n",
       "      <td>128907.0</td>\n",
       "      <td>178919.0</td>\n",
       "      <td>41329.0</td>\n",
       "      <td>...</td>\n",
       "      <td>2123.96</td>\n",
       "      <td>2400.04</td>\n",
       "      <td>84.19</td>\n",
       "      <td>0.00</td>\n",
       "      <td>167.62</td>\n",
       "      <td>935.54</td>\n",
       "      <td>1019.73</td>\n",
       "      <td>1103.16</td>\n",
       "      <td>1187.35</td>\n",
       "      <td>-1188.42</td>\n",
       "    </tr>\n",
       "  </tbody>\n",
       "</table>\n",
       "<p>5 rows × 34 columns</p>\n",
       "</div>"
      ],
      "text/plain": [
       "   ws_sold_date_sk  ws_sold_time_sk  ws_ship_date_sk  ws_item_sk  \\\n",
       "0        2451383.0          73313.0        2451482.0       35833   \n",
       "1        2451383.0          73313.0        2451411.0       27758   \n",
       "2        2451383.0          73313.0        2451413.0       20456   \n",
       "3        2451383.0          73313.0        2451393.0       36872   \n",
       "4        2451383.0          73313.0        2451502.0       26948   \n",
       "\n",
       "   ws_bill_customer_sk  ws_bill_cdemo_sk  ws_bill_hdemo_sk  ws_bill_addr_sk  \\\n",
       "0             172074.0          596485.0            1096.0         128907.0   \n",
       "1             172074.0          596485.0            1096.0         128907.0   \n",
       "2             172074.0          596485.0            1096.0         128907.0   \n",
       "3             172074.0          596485.0            1096.0         128907.0   \n",
       "4             172074.0          596485.0            1096.0         128907.0   \n",
       "\n",
       "   ws_ship_customer_sk  ws_ship_cdemo_sk  ...  ws_ext_wholesale_cost  \\\n",
       "0             178919.0           41329.0  ...                1914.63   \n",
       "1             178919.0           41329.0  ...                1133.54   \n",
       "2             178919.0           41329.0  ...                1591.04   \n",
       "3             178919.0           41329.0  ...                4496.70   \n",
       "4             178919.0           41329.0  ...                2123.96   \n",
       "\n",
       "   ws_ext_list_price  ws_ext_tax  ws_coupon_amt  ws_ext_ship_cost  \\\n",
       "0            3388.65       50.95        1149.18            575.70   \n",
       "1            1858.96       30.10           0.00            910.86   \n",
       "2            3452.48      124.28           0.00            828.48   \n",
       "3            7284.55       29.13           0.00           2476.50   \n",
       "4            2400.04       84.19           0.00            167.62   \n",
       "\n",
       "   ws_net_paid  ws_net_paid_inc_tax  ws_net_paid_inc_ship  \\\n",
       "0      1019.10              1070.05               1594.80   \n",
       "1      1003.58              1033.68               1914.44   \n",
       "2      3107.20              3231.48               3935.68   \n",
       "3      1456.65              1485.78               3933.15   \n",
       "4       935.54              1019.73               1103.16   \n",
       "\n",
       "   ws_net_paid_inc_ship_tax  ws_net_profit  \n",
       "0                   1645.75        -895.53  \n",
       "1                   1944.54        -129.96  \n",
       "2                   4059.96        1516.16  \n",
       "3                   3962.28       -3040.05  \n",
       "4                   1187.35       -1188.42  \n",
       "\n",
       "[5 rows x 34 columns]"
      ]
     },
     "execution_count": 151,
     "metadata": {},
     "output_type": "execute_result"
    }
   ],
   "source": [
    "df_web_sales.head(5)"
   ]
  },
  {
   "cell_type": "code",
   "execution_count": null,
   "id": "cda498f0-5ea7-4e7e-b1ff-1d863892f052",
   "metadata": {},
   "outputs": [],
   "source": []
  }
 ],
 "metadata": {
  "kernelspec": {
   "display_name": "Python 3 (ipykernel)",
   "language": "python",
   "name": "python3"
  },
  "language_info": {
   "codemirror_mode": {
    "name": "ipython",
    "version": 3
   },
   "file_extension": ".py",
   "mimetype": "text/x-python",
   "name": "python",
   "nbconvert_exporter": "python",
   "pygments_lexer": "ipython3",
   "version": "3.8.13"
  }
 },
 "nbformat": 4,
 "nbformat_minor": 5
}
