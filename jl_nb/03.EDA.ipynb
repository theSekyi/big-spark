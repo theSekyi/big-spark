{
 "cells": [
  {
   "cell_type": "code",
   "execution_count": 1,
   "id": "b68121f9-5f25-48ae-9db0-ef342b4c318d",
   "metadata": {},
   "outputs": [],
   "source": [
    "%load_ext lab_black\n",
    "%load_ext autoreload\n",
    "%autoreload 2"
   ]
  },
  {
   "cell_type": "markdown",
   "id": "881c7dd5-67a7-48d8-9e13-8062fd74d595",
   "metadata": {
    "jp-MarkdownHeadingCollapsed": true,
    "tags": []
   },
   "source": [
    "### **Imports**"
   ]
  },
  {
   "cell_type": "code",
   "execution_count": 2,
   "id": "dd9e1c43-57c1-4cf8-bd6d-7a8f49ba5443",
   "metadata": {},
   "outputs": [],
   "source": [
    "import sys\n",
    "\n",
    "sys.path.append(\"../\")"
   ]
  },
  {
   "cell_type": "code",
   "execution_count": 3,
   "id": "5af6ea90-b7da-4753-8cae-819eec4bd714",
   "metadata": {},
   "outputs": [],
   "source": [
    "from apps.dataframe_transforms import init_spark, denormalize_store_sales"
   ]
  },
  {
   "cell_type": "code",
   "execution_count": 5,
   "id": "07bd8442-60e3-4358-a179-ce6bfa669537",
   "metadata": {},
   "outputs": [],
   "source": [
    "spark = init_spark(\"EDA\")\n",
    "spark.conf.set(\"spark.sql.debug.maxToStringFields\", 1000)\n",
    "spark.sparkContext.setLogLevel(\"WARN\")"
   ]
  },
  {
   "cell_type": "code",
   "execution_count": 6,
   "id": "d72c4dea-3dc5-4f82-94ef-06481dbb13a5",
   "metadata": {},
   "outputs": [],
   "source": [
    "src_store_sales = \"../data/csv/store_sales.csv\"\n",
    "src_store = \"../data/csv/store.csv\"\n",
    "src_items = \"../data/csv/item.csv\"\n",
    "src_date = \"../data/csv/date_dim.csv\"\n",
    "src_time = \"../data/csv/time_dim.csv\"\n",
    "\n",
    "df_store_sales = spark.read.option(\"header\", \"true\").csv(src_store_sales)\n",
    "df_store = spark.read.option(\"header\", \"true\").csv(src_store)\n",
    "df_items = spark.read.option(\"header\", \"true\").csv(src_items)\n",
    "df_date = spark.read.option(\"header\", \"true\").csv(src_date)\n",
    "df_time = spark.read.option(\"header\", \"true\").csv(src_time)"
   ]
  },
  {
   "cell_type": "code",
   "execution_count": 7,
   "id": "04d10488-1bda-4e19-b0f1-3ae4a62c12d8",
   "metadata": {},
   "outputs": [],
   "source": [
    "from pyspark.sql.types import IntegerType"
   ]
  },
  {
   "cell_type": "code",
   "execution_count": null,
   "id": "89b52524-b7dc-4cd0-aeee-4cc164006cf8",
   "metadata": {},
   "outputs": [],
   "source": []
  },
  {
   "cell_type": "code",
   "execution_count": null,
   "id": "e7a0ef44-66dc-447c-80fd-1f435047307f",
   "metadata": {},
   "outputs": [],
   "source": []
  },
  {
   "cell_type": "code",
   "execution_count": 87,
   "id": "3c0182fe-2612-4c2b-9910-e52049fb88f1",
   "metadata": {},
   "outputs": [],
   "source": []
  },
  {
   "cell_type": "markdown",
   "id": "c1f3e7cb-39b3-47f0-9adb-06970dc315a1",
   "metadata": {},
   "source": [
    "### **Preprocessing**"
   ]
  },
  {
   "cell_type": "markdown",
   "id": "daf191d8-bf39-42f0-8422-600ccf0015cc",
   "metadata": {
    "jp-MarkdownHeadingCollapsed": true,
    "tags": []
   },
   "source": [
    "#### **Denormalize store sales**\n"
   ]
  },
  {
   "cell_type": "code",
   "execution_count": 48,
   "id": "653cdec0-8d3c-48d4-8324-25a2da56add8",
   "metadata": {},
   "outputs": [],
   "source": [
    "df = denormalize_store_sales(df_store, df_store_sales, df_items, df_date, df_time)"
   ]
  },
  {
   "cell_type": "code",
   "execution_count": 49,
   "id": "64fbfa20-8b45-4854-82fb-cd45d141c4a6",
   "metadata": {},
   "outputs": [],
   "source": [
    "columns_to_select = [\n",
    "    \"t_am_pm\",\n",
    "    \"t_hour\",\n",
    "    \"t_shift\",\n",
    "    \"i_class\",\n",
    "    \"i_category\",\n",
    "    \"i_color\",\n",
    "    \"s_store_name\",\n",
    "    \"s_number_employees\",\n",
    "    \"s_floor_space\",\n",
    "    \"s_hours\",\n",
    "    \"s_country\",\n",
    "    \"s_city\",\n",
    "    \"ss_sales_price\",\n",
    "    \"ss_quantity\",\n",
    "    \"d_date\",\n",
    "    \"d_quarter_name\",\n",
    "    \"d_holiday\",\n",
    "    \"d_year\",\n",
    "    \"d_weekend\",\n",
    "    \"d_following_holiday\",\n",
    "    \"d_first_dom\",\n",
    "    \"d_last_dom\",\n",
    "    \"d_current_day\",\n",
    "    \"d_current_week\",\n",
    "    \"d_current_month\",\n",
    "    \"d_current_quarter\",\n",
    "    \"d_current_year\",\n",
    "]"
   ]
  },
  {
   "cell_type": "markdown",
   "id": "58a21204-7f3a-4885-9af8-0fc9258ca9bc",
   "metadata": {
    "jp-MarkdownHeadingCollapsed": true,
    "tags": []
   },
   "source": [
    "#### **Check for Null values**"
   ]
  },
  {
   "cell_type": "code",
   "execution_count": 10,
   "id": "a7bc9b22-c02a-4b4e-a8b4-6af711276730",
   "metadata": {},
   "outputs": [],
   "source": [
    "from pyspark.sql.functions import isnan, when, count, col"
   ]
  },
  {
   "cell_type": "code",
   "execution_count": 50,
   "id": "931733d0-079b-4cbc-9a4a-dd887bef626e",
   "metadata": {},
   "outputs": [],
   "source": [
    "df_processed = df.select(*columns_to_select)"
   ]
  },
  {
   "cell_type": "code",
   "execution_count": 56,
   "id": "c11abc6f-42bd-43c3-905c-a8ac8c3d9283",
   "metadata": {},
   "outputs": [
    {
     "name": "stdout",
     "output_type": "stream",
     "text": [
      "+------+\n",
      "|d_year|\n",
      "+------+\n",
      "|  2000|\n",
      "|  2000|\n",
      "|  2000|\n",
      "|  2000|\n",
      "|  2000|\n",
      "|  2000|\n",
      "|  2000|\n",
      "|  2000|\n",
      "|  2000|\n",
      "|  2000|\n",
      "+------+\n",
      "only showing top 10 rows\n",
      "\n"
     ]
    }
   ],
   "source": [
    "df_processed.select(\"d_year\").show(10)"
   ]
  },
  {
   "cell_type": "code",
   "execution_count": 55,
   "id": "2c039b56-08ef-4b2a-892b-47e916246877",
   "metadata": {},
   "outputs": [
    {
     "name": "stderr",
     "output_type": "stream",
     "text": [
      "[Stage 132:===================================================>   (16 + 1) / 17]\r"
     ]
    },
    {
     "name": "stdout",
     "output_type": "stream",
     "text": [
      "-RECORD 0----------------------\n",
      " t_am_pm             | 648574  \n",
      " t_hour              | 648574  \n",
      " t_shift             | 648574  \n",
      " i_class             | 37975   \n",
      " i_category          | 33025   \n",
      " i_color             | 38146   \n",
      " s_store_name        | 648113  \n",
      " s_number_employees  | 1158293 \n",
      " s_floor_space       | 1158293 \n",
      " s_hours             | 648113  \n",
      " s_country           | 648113  \n",
      " s_city              | 1158293 \n",
      " ss_sales_price      | 648525  \n",
      " ss_quantity         | 647686  \n",
      " d_date              | 648638  \n",
      " d_quarter_name      | 648638  \n",
      " d_holiday           | 648638  \n",
      " d_year              | 648638  \n",
      " d_weekend           | 648638  \n",
      " d_following_holiday | 648638  \n",
      " d_first_dom         | 648638  \n",
      " d_last_dom          | 648638  \n",
      " d_current_day       | 648638  \n",
      " d_current_week      | 648638  \n",
      " d_current_month     | 648638  \n",
      " d_current_quarter   | 648638  \n",
      " d_current_year      | 648638  \n",
      "\n"
     ]
    },
    {
     "name": "stderr",
     "output_type": "stream",
     "text": [
      "                                                                                \r"
     ]
    }
   ],
   "source": [
    "df_null = df_processed.select(\n",
    "    [count(when(isnan(c) | col(c).isNull(), c)).alias(c) for c in df_processed.columns]\n",
    ").show(vertical=True)\n",
    "\n",
    "df_null"
   ]
  },
  {
   "cell_type": "markdown",
   "id": "e1a4ab2d-8ca8-4067-84c4-de773b03ae85",
   "metadata": {
    "jp-MarkdownHeadingCollapsed": true,
    "tags": []
   },
   "source": [
    "#### **Drop rows with one or more null values**"
   ]
  },
  {
   "cell_type": "code",
   "execution_count": 57,
   "id": "9e89624a-9529-4341-952d-97872545e976",
   "metadata": {},
   "outputs": [
    {
     "name": "stderr",
     "output_type": "stream",
     "text": [
      "                                                                                \r"
     ]
    },
    {
     "data": {
      "text/plain": [
       "14400052"
      ]
     },
     "execution_count": 57,
     "metadata": {},
     "output_type": "execute_result"
    }
   ],
   "source": [
    "df_processed.count()"
   ]
  },
  {
   "cell_type": "code",
   "execution_count": 60,
   "id": "acb49aba-be76-4b46-8da0-effa7c5d72e3",
   "metadata": {},
   "outputs": [],
   "source": [
    "df_processed = df_processed.na.drop()"
   ]
  },
  {
   "cell_type": "code",
   "execution_count": 61,
   "id": "bf3dbce5-364e-4e0f-a3c9-9a313b746ce2",
   "metadata": {},
   "outputs": [
    {
     "name": "stderr",
     "output_type": "stream",
     "text": [
      "                                                                                \r"
     ]
    },
    {
     "data": {
      "text/plain": [
       "12600139"
      ]
     },
     "execution_count": 61,
     "metadata": {},
     "output_type": "execute_result"
    }
   ],
   "source": [
    "df_processed.count()"
   ]
  },
  {
   "cell_type": "code",
   "execution_count": null,
   "id": "22ca9794-f63e-42df-9fde-b8195a3a9d18",
   "metadata": {},
   "outputs": [],
   "source": []
  },
  {
   "cell_type": "code",
   "execution_count": null,
   "id": "2983816d-bf2d-4248-b5c7-85a91b024d0f",
   "metadata": {},
   "outputs": [],
   "source": []
  },
  {
   "cell_type": "code",
   "execution_count": null,
   "id": "19666566-7cf8-487f-b736-932987953bce",
   "metadata": {},
   "outputs": [],
   "source": []
  },
  {
   "cell_type": "markdown",
   "id": "b4312809-b76f-4213-b904-dde0ebea0b77",
   "metadata": {},
   "source": [
    "### **Exploration**"
   ]
  },
  {
   "cell_type": "markdown",
   "id": "b58ed301-5657-480b-87d4-2eb48536f711",
   "metadata": {
    "jp-MarkdownHeadingCollapsed": true,
    "tags": []
   },
   "source": [
    "#### **Which Stores perform best for each year**"
   ]
  },
  {
   "cell_type": "code",
   "execution_count": 13,
   "id": "d70e0fb3-c43a-4dc6-bdfd-0839f7df7e02",
   "metadata": {},
   "outputs": [
    {
     "name": "stdout",
     "output_type": "stream",
     "text": [
      "+------+\n",
      "|d_year|\n",
      "+------+\n",
      "|  2000|\n",
      "|  2000|\n",
      "|  2000|\n",
      "|  2000|\n",
      "|  2000|\n",
      "|  2000|\n",
      "|  2000|\n",
      "|  2000|\n",
      "|  2000|\n",
      "|  2000|\n",
      "+------+\n",
      "only showing top 10 rows\n",
      "\n"
     ]
    }
   ],
   "source": [
    "df_processed.select(\"d_year\").show(10)"
   ]
  },
  {
   "cell_type": "code",
   "execution_count": null,
   "id": "da8e25c8-1886-4599-8f80-15351fea722f",
   "metadata": {},
   "outputs": [],
   "source": []
  },
  {
   "cell_type": "code",
   "execution_count": null,
   "id": "7383d9a0-3c04-425c-a469-e4bbaba076c5",
   "metadata": {},
   "outputs": [],
   "source": []
  },
  {
   "cell_type": "code",
   "execution_count": 66,
   "id": "c548cd90-5cfd-4f8a-b820-e8fc32ab1069",
   "metadata": {},
   "outputs": [],
   "source": [
    "from pyspark.sql.functions import count, avg, sum"
   ]
  },
  {
   "cell_type": "code",
   "execution_count": 68,
   "id": "85dba1ca-4556-4095-8212-0fbe0a1d7468",
   "metadata": {},
   "outputs": [
    {
     "name": "stderr",
     "output_type": "stream",
     "text": [
      "[Stage 186:==========================================>            (13 + 4) / 17]\r"
     ]
    },
    {
     "name": "stdout",
     "output_type": "stream",
     "text": [
      "+------------+------+-------------------+--------+\n",
      "|s_store_name|d_year|sum(ss_sales_price)|count(1)|\n",
      "+------------+------+-------------------+--------+\n",
      "|        able|  2003|             155212|    4146|\n",
      "|         pri|  2000|            7294976|  195001|\n",
      "|       ought|  1998|            7267377|  194337|\n",
      "|        eing|  2001|           10866383|  290644|\n",
      "|        eing|  1998|           10668886|  285254|\n",
      "|       ation|  2000|            7074603|  190089|\n",
      "|        able|  2000|           14528961|  388274|\n",
      "|       ought|  2000|            7326920|  195667|\n",
      "|        eing|  2003|             125000|    3323|\n",
      "|       ought|  1999|            7257830|  194613|\n",
      "|       ought|  2002|            7285156|  194727|\n",
      "|       ought|  2003|              88005|    2356|\n",
      "|        anti|  2003|              38493|    1009|\n",
      "|        able|  1999|           14509259|  387787|\n",
      "|        anti|  1999|            3586928|   95689|\n",
      "|        able|  2001|           14595006|  390896|\n",
      "|         pri|  1999|            7178147|  192248|\n",
      "|        anti|  2000|            3580389|   96364|\n",
      "|         ese|  2001|           14435706|  385543|\n",
      "|       ation|  2003|              82125|    2226|\n",
      "+------------+------+-------------------+--------+\n",
      "only showing top 20 rows\n",
      "\n"
     ]
    },
    {
     "name": "stderr",
     "output_type": "stream",
     "text": [
      "                                                                                \r"
     ]
    }
   ],
   "source": [
    "df_processed.groupBy(\"s_store_name\", \"d_year\").agg(\n",
    "    sum(\"ss_sales_price\"), count(\"*\")\n",
    ").show()"
   ]
  },
  {
   "cell_type": "code",
   "execution_count": 70,
   "id": "f49e6167-fdd4-4bcc-82cc-145bd3903ee3",
   "metadata": {},
   "outputs": [
    {
     "name": "stderr",
     "output_type": "stream",
     "text": [
      "                                                                                \r"
     ]
    }
   ],
   "source": [
    "grouped_year_store = (\n",
    "    df_processed.groupBy(\"s_store_name\", \"d_year\")\n",
    "    .agg(sum(\"ss_sales_price\"), count(\"*\"))\n",
    "    .toPandas()\n",
    ")"
   ]
  },
  {
   "cell_type": "code",
   "execution_count": 83,
   "id": "dc0a8bca-e6da-4713-ba2b-32fbb07ac171",
   "metadata": {},
   "outputs": [],
   "source": [
    "sns.set(rc={\"figure.figsize\": (15.7, 8.27)})"
   ]
  },
  {
   "cell_type": "code",
   "execution_count": 96,
   "id": "7352c16f-de4f-4da3-a62a-ba46a8ac15cb",
   "metadata": {},
   "outputs": [
    {
     "data": {
      "image/png": "[encoded data removed]",
      "text/plain": [
       "<Figure size 1015.8x667.44 with 1 Axes>"
      ]
     },
     "metadata": {},
     "output_type": "display_data"
    }
   ],
   "source": [
    "import seaborn as sns\n",
    "\n",
    "sns.set(font_scale=1.5)\n",
    "\n",
    "category_plot = sns.catplot(\n",
    "    x=\"s_store_name\",  # x variable name\n",
    "    y=\"sum(ss_sales_price)\",  # y variable name\n",
    "    hue=\"d_year\",  # group variable name\n",
    "    data=grouped_year_store,  # dataframe to plot\n",
    "    kind=\"bar\",\n",
    "    height=9.27,\n",
    "    aspect=12.7 / 9.27,\n",
    ")\n",
    "category_plot.despine(left=True)\n",
    "category_plot.set_axis_labels(\n",
    "    \"\",\n",
    "    \"Total Sales ($)\",\n",
    ")\n",
    "category_plot.legend.set_title(\"\")"
   ]
  },
  {
   "cell_type": "code",
   "execution_count": null,
   "id": "c303b72c-ac5a-408e-8aa9-214947a7e9cf",
   "metadata": {},
   "outputs": [],
   "source": []
  },
  {
   "cell_type": "code",
   "execution_count": 97,
   "id": "db13ebd7-b6bb-46d2-a4fa-a72f6d7122af",
   "metadata": {},
   "outputs": [
    {
     "data": {
      "image/png": "[encoded data removed]",
      "text/plain": [
       "<Figure size 1051.98x667.44 with 1 Axes>"
      ]
     },
     "metadata": {},
     "output_type": "display_data"
    }
   ],
   "source": [
    "import seaborn as sns\n",
    "\n",
    "sns.set(font_scale=1.5)\n",
    "\n",
    "category_plot = sns.catplot(\n",
    "    x=\"d_year\",  # x variable name\n",
    "    y=\"sum(ss_sales_price)\",  # y variable name\n",
    "    hue=\"s_store_name\",  # group variable name\n",
    "    data=grouped_year_store,  # dataframe to plot\n",
    "    kind=\"bar\",\n",
    "    height=9.27,\n",
    "    aspect=12.7 / 9.27,\n",
    ")\n",
    "category_plot.despine(left=True)\n",
    "category_plot.set_axis_labels(\n",
    "    \"\",\n",
    "    \"Total Sales ($)\",\n",
    ")\n",
    "category_plot.legend.set_title(\"\")"
   ]
  },
  {
   "cell_type": "code",
   "execution_count": null,
   "id": "4cbaa1b8-5f71-46f5-8006-807a94f94092",
   "metadata": {},
   "outputs": [],
   "source": []
  },
  {
   "cell_type": "markdown",
   "id": "60871610-68f2-41c0-9b50-e4b4e6614427",
   "metadata": {
    "jp-MarkdownHeadingCollapsed": true,
    "tags": []
   },
   "source": [
    "#### **Products**"
   ]
  },
  {
   "cell_type": "code",
   "execution_count": 108,
   "id": "4003a134-6058-471c-8bc9-2cd6ee3ceed3",
   "metadata": {
    "collapsed": true,
    "jupyter": {
     "outputs_hidden": true
    },
    "tags": []
   },
   "outputs": [
    {
     "data": {
      "text/plain": [
       "['t_am_pm',\n",
       " 't_hour',\n",
       " 't_shift',\n",
       " 'i_class',\n",
       " 'i_category',\n",
       " 'i_color',\n",
       " 's_store_name',\n",
       " 's_number_employees',\n",
       " 's_floor_space',\n",
       " 's_hours',\n",
       " 's_country',\n",
       " 's_city',\n",
       " 'ss_sales_price',\n",
       " 'ss_quantity',\n",
       " 'd_date',\n",
       " 'd_quarter_name',\n",
       " 'd_holiday',\n",
       " 'd_year',\n",
       " 'd_weekend',\n",
       " 'd_following_holiday',\n",
       " 'd_first_dom',\n",
       " 'd_last_dom',\n",
       " 'd_current_day',\n",
       " 'd_current_week',\n",
       " 'd_current_month',\n",
       " 'd_current_quarter',\n",
       " 'd_current_year']"
      ]
     },
     "execution_count": 108,
     "metadata": {},
     "output_type": "execute_result"
    }
   ],
   "source": [
    "df_processed.columns"
   ]
  },
  {
   "cell_type": "code",
   "execution_count": 116,
   "id": "b830cb03-2dae-48e7-9e52-bbd77da3eebb",
   "metadata": {},
   "outputs": [
    {
     "name": "stdout",
     "output_type": "stream",
     "text": [
      "+-----------+\n",
      "| i_category|\n",
      "+-----------+\n",
      "|      Women|\n",
      "|      Women|\n",
      "|        Men|\n",
      "|       Home|\n",
      "|    Jewelry|\n",
      "|Electronics|\n",
      "|      Books|\n",
      "|    Jewelry|\n",
      "|      Women|\n",
      "|      Music|\n",
      "|      Women|\n",
      "|      Shoes|\n",
      "|      Music|\n",
      "|      Music|\n",
      "|   Children|\n",
      "|    Jewelry|\n",
      "|      Women|\n",
      "|      Shoes|\n",
      "|      Music|\n",
      "|      Books|\n",
      "+-----------+\n",
      "only showing top 20 rows\n",
      "\n"
     ]
    }
   ],
   "source": [
    "df_processed.select(\"i_category\").show()"
   ]
  },
  {
   "cell_type": "code",
   "execution_count": 112,
   "id": "94b5505b-0af6-48de-810b-e2e7bb752549",
   "metadata": {},
   "outputs": [],
   "source": [
    "from pyspark.sql import functions as F"
   ]
  },
  {
   "cell_type": "markdown",
   "id": "1660173c-0bde-40b6-b73b-13262c2b620d",
   "metadata": {},
   "source": [
    "##### Number of unique categories"
   ]
  },
  {
   "cell_type": "code",
   "execution_count": 114,
   "id": "c5661092-79e4-447c-a0c4-84b4f711692a",
   "metadata": {},
   "outputs": [
    {
     "name": "stderr",
     "output_type": "stream",
     "text": [
      "[Stage 215:==========================================>            (13 + 4) / 17]\r"
     ]
    },
    {
     "name": "stdout",
     "output_type": "stream",
     "text": [
      "+--------------------------+\n",
      "|count(DISTINCT i_category)|\n",
      "+--------------------------+\n",
      "|                        10|\n",
      "+--------------------------+\n",
      "\n"
     ]
    },
    {
     "name": "stderr",
     "output_type": "stream",
     "text": [
      "                                                                                \r"
     ]
    }
   ],
   "source": [
    "df_processed.select(F.countDistinct(\"i_category\")).show()"
   ]
  },
  {
   "cell_type": "markdown",
   "id": "da6ff92a-7dcd-4e7e-aa59-cb8169390fc9",
   "metadata": {},
   "source": [
    "##### Number of purchases in each category"
   ]
  },
  {
   "cell_type": "code",
   "execution_count": 120,
   "id": "3d9b0564-3e27-4c9b-8ee1-c366857f9a88",
   "metadata": {},
   "outputs": [
    {
     "name": "stderr",
     "output_type": "stream",
     "text": [
      "[Stage 244:==========================================>            (13 + 4) / 17]\r"
     ]
    },
    {
     "name": "stdout",
     "output_type": "stream",
     "text": [
      "+-----------+-------+\n",
      "| i_category|  count|\n",
      "+-----------+-------+\n",
      "|      Music|1295287|\n",
      "|Electronics|1274198|\n",
      "|      Women|1270462|\n",
      "|      Shoes|1269244|\n",
      "|      Books|1262500|\n",
      "|       Home|1249917|\n",
      "|    Jewelry|1249875|\n",
      "|     Sports|1248697|\n",
      "|   Children|1241281|\n",
      "|        Men|1238678|\n",
      "+-----------+-------+\n",
      "\n"
     ]
    },
    {
     "name": "stderr",
     "output_type": "stream",
     "text": [
      "                                                                                \r"
     ]
    }
   ],
   "source": [
    "df_processed.groupBy(\"i_category\").count().sort(F.desc(\"count\")).show()"
   ]
  },
  {
   "cell_type": "code",
   "execution_count": null,
   "id": "2b1e1764-0928-4aa4-baae-0e03ed76659c",
   "metadata": {},
   "outputs": [],
   "source": []
  },
  {
   "cell_type": "markdown",
   "id": "a20abc17-3cd3-4ce5-a609-743667867b01",
   "metadata": {},
   "source": [
    "##### Number of distinct classes"
   ]
  },
  {
   "cell_type": "code",
   "execution_count": 113,
   "id": "a42d7bd8-91cb-4eea-8e1d-5d15d115af97",
   "metadata": {},
   "outputs": [
    {
     "name": "stderr",
     "output_type": "stream",
     "text": [
      "[Stage 205:==========================================>            (13 + 4) / 17]\r"
     ]
    },
    {
     "name": "stdout",
     "output_type": "stream",
     "text": [
      "+-----------------------+\n",
      "|count(DISTINCT i_class)|\n",
      "+-----------------------+\n",
      "|                     99|\n",
      "+-----------------------+\n",
      "\n"
     ]
    },
    {
     "name": "stderr",
     "output_type": "stream",
     "text": [
      "                                                                                \r"
     ]
    }
   ],
   "source": [
    "df_processed.select(F.countDistinct(\"i_class\")).show()"
   ]
  },
  {
   "cell_type": "code",
   "execution_count": null,
   "id": "1bd20967-6e55-42aa-9fa6-e137f97253aa",
   "metadata": {},
   "outputs": [],
   "source": []
  },
  {
   "cell_type": "markdown",
   "id": "8f231671-2c96-4bb2-9dc2-f9b8e0123b87",
   "metadata": {
    "jp-MarkdownHeadingCollapsed": true,
    "tags": []
   },
   "source": [
    "##### Sales per category"
   ]
  },
  {
   "cell_type": "code",
   "execution_count": 125,
   "id": "62eee03c-be4b-42b9-940c-51499f5b914b",
   "metadata": {},
   "outputs": [
    {
     "name": "stderr",
     "output_type": "stream",
     "text": [
      "                                                                                \r"
     ]
    }
   ],
   "source": [
    "grouped_sales_per_cat = (\n",
    "    df_processed.groupBy(\"i_category\")\n",
    "    .agg(F.sum(\"ss_sales_price\").alias(\"sales\"))\n",
    "    .sort(F.desc(\"sales\"))\n",
    "    .toPandas()\n",
    ")"
   ]
  },
  {
   "cell_type": "code",
   "execution_count": 126,
   "id": "6d40d794-0723-4ba5-b77d-6e85816fb454",
   "metadata": {},
   "outputs": [
    {
     "data": {
      "text/html": [
       "<div>\n",
       "<style scoped>\n",
       "    .dataframe tbody tr th:only-of-type {\n",
       "        vertical-align: middle;\n",
       "    }\n",
       "\n",
       "    .dataframe tbody tr th {\n",
       "        vertical-align: top;\n",
       "    }\n",
       "\n",
       "    .dataframe thead th {\n",
       "        text-align: right;\n",
       "    }\n",
       "</style>\n",
       "<table border=\"1\" class=\"dataframe\">\n",
       "  <thead>\n",
       "    <tr style=\"text-align: right;\">\n",
       "      <th></th>\n",
       "      <th>i_category</th>\n",
       "      <th>sales</th>\n",
       "    </tr>\n",
       "  </thead>\n",
       "  <tbody>\n",
       "    <tr>\n",
       "      <th>0</th>\n",
       "      <td>Music</td>\n",
       "      <td>48495327</td>\n",
       "    </tr>\n",
       "    <tr>\n",
       "      <th>1</th>\n",
       "      <td>Electronics</td>\n",
       "      <td>47693416</td>\n",
       "    </tr>\n",
       "    <tr>\n",
       "      <th>2</th>\n",
       "      <td>Women</td>\n",
       "      <td>47474085</td>\n",
       "    </tr>\n",
       "    <tr>\n",
       "      <th>3</th>\n",
       "      <td>Shoes</td>\n",
       "      <td>47469993</td>\n",
       "    </tr>\n",
       "    <tr>\n",
       "      <th>4</th>\n",
       "      <td>Books</td>\n",
       "      <td>47197016</td>\n",
       "    </tr>\n",
       "    <tr>\n",
       "      <th>5</th>\n",
       "      <td>Jewelry</td>\n",
       "      <td>46738018</td>\n",
       "    </tr>\n",
       "    <tr>\n",
       "      <th>6</th>\n",
       "      <td>Home</td>\n",
       "      <td>46733628</td>\n",
       "    </tr>\n",
       "    <tr>\n",
       "      <th>7</th>\n",
       "      <td>Sports</td>\n",
       "      <td>46593539</td>\n",
       "    </tr>\n",
       "    <tr>\n",
       "      <th>8</th>\n",
       "      <td>Children</td>\n",
       "      <td>46354929</td>\n",
       "    </tr>\n",
       "    <tr>\n",
       "      <th>9</th>\n",
       "      <td>Men</td>\n",
       "      <td>46291839</td>\n",
       "    </tr>\n",
       "  </tbody>\n",
       "</table>\n",
       "</div>"
      ],
      "text/plain": [
       "    i_category     sales\n",
       "0        Music  48495327\n",
       "1  Electronics  47693416\n",
       "2        Women  47474085\n",
       "3        Shoes  47469993\n",
       "4        Books  47197016\n",
       "5      Jewelry  46738018\n",
       "6         Home  46733628\n",
       "7       Sports  46593539\n",
       "8     Children  46354929\n",
       "9          Men  46291839"
      ]
     },
     "execution_count": 126,
     "metadata": {},
     "output_type": "execute_result"
    }
   ],
   "source": [
    "grouped_sales_per_cat"
   ]
  },
  {
   "cell_type": "code",
   "execution_count": null,
   "id": "4bed34f1-b565-432e-8a46-1427362cfe2a",
   "metadata": {},
   "outputs": [],
   "source": []
  },
  {
   "cell_type": "code",
   "execution_count": null,
   "id": "dfa2e3d1-e24d-4dfc-a3aa-97277804810e",
   "metadata": {},
   "outputs": [],
   "source": []
  },
  {
   "cell_type": "code",
   "execution_count": null,
   "id": "71f0e1cd-8bd3-491c-9cef-c42ca148b195",
   "metadata": {},
   "outputs": [],
   "source": []
  },
  {
   "cell_type": "code",
   "execution_count": null,
   "id": "0a63af1e-241b-4821-873c-20d1adde35ad",
   "metadata": {},
   "outputs": [],
   "source": []
  },
  {
   "cell_type": "code",
   "execution_count": null,
   "id": "a476136e-41a9-4374-b2c5-7fa133f7745b",
   "metadata": {},
   "outputs": [],
   "source": []
  },
  {
   "cell_type": "code",
   "execution_count": null,
   "id": "67e0cfcb-e3a6-4fd2-a6b3-b698f8af4a49",
   "metadata": {},
   "outputs": [],
   "source": []
  },
  {
   "cell_type": "markdown",
   "id": "16224889-d5df-4155-9297-f19a948373c6",
   "metadata": {
    "jp-MarkdownHeadingCollapsed": true,
    "tags": []
   },
   "source": [
    "#### **Country**"
   ]
  },
  {
   "cell_type": "code",
   "execution_count": 117,
   "id": "cd664fa8-a8bf-4f60-8fad-f7802ad72165",
   "metadata": {},
   "outputs": [
    {
     "name": "stderr",
     "output_type": "stream",
     "text": [
      "[Stage 230:==========================================>            (13 + 4) / 17]\r"
     ]
    },
    {
     "name": "stdout",
     "output_type": "stream",
     "text": [
      "+-------------+--------+\n",
      "|    s_country|   count|\n",
      "+-------------+--------+\n",
      "|United States|12600139|\n",
      "+-------------+--------+\n",
      "\n"
     ]
    },
    {
     "name": "stderr",
     "output_type": "stream",
     "text": [
      "                                                                                \r"
     ]
    }
   ],
   "source": [
    "df_processed.groupBy(\"s_country\").count().show()"
   ]
  },
  {
   "cell_type": "code",
   "execution_count": null,
   "id": "2d603bd6-301d-448b-b2b0-bf5746e71d2d",
   "metadata": {},
   "outputs": [],
   "source": []
  },
  {
   "cell_type": "code",
   "execution_count": null,
   "id": "232bb66d-e3d8-4d12-90d5-8b1aa293c2ea",
   "metadata": {},
   "outputs": [],
   "source": []
  },
  {
   "cell_type": "code",
   "execution_count": null,
   "id": "d45e6be6-0475-4356-b868-a0e5cb2683d6",
   "metadata": {},
   "outputs": [],
   "source": []
  }
 ],
 "metadata": {
  "kernelspec": {
   "display_name": "Python 3 (ipykernel)",
   "language": "python",
   "name": "python3"
  },
  "language_info": {
   "codemirror_mode": {
    "name": "ipython",
    "version": 3
   },
   "file_extension": ".py",
   "mimetype": "text/x-python",
   "name": "python",
   "nbconvert_exporter": "python",
   "pygments_lexer": "ipython3",
   "version": "3.8.13"
  }
 },
 "nbformat": 4,
 "nbformat_minor": 5
}
